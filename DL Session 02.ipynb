{
 "cells": [
  {
   "cell_type": "code",
   "execution_count": 1,
   "id": "082409b1",
   "metadata": {},
   "outputs": [],
   "source": [
    "import numpy as np"
   ]
  },
  {
   "cell_type": "code",
   "execution_count": 2,
   "id": "246b2b53",
   "metadata": {},
   "outputs": [],
   "source": [
    "from numpy import genfromtxt\n",
    "data = genfromtxt('D:/Data Science Bootcamp/Deep Learning/Session 02/bank_note_data.txt', delimiter=',')"
   ]
  },
  {
   "cell_type": "code",
   "execution_count": 3,
   "id": "20d65013",
   "metadata": {},
   "outputs": [
    {
     "data": {
      "text/plain": [
       "array([[  3.6216 ,   8.6661 ,  -2.8073 ,  -0.44699,   0.     ],\n",
       "       [  4.5459 ,   8.1674 ,  -2.4586 ,  -1.4621 ,   0.     ],\n",
       "       [  3.866  ,  -2.6383 ,   1.9242 ,   0.10645,   0.     ],\n",
       "       ...,\n",
       "       [ -3.7503 , -13.4586 ,  17.5932 ,  -2.7771 ,   1.     ],\n",
       "       [ -3.5637 ,  -8.3827 ,  12.393  ,  -1.2823 ,   1.     ],\n",
       "       [ -2.5419 ,  -0.65804,   2.6842 ,   1.1952 ,   1.     ]])"
      ]
     },
     "execution_count": 3,
     "metadata": {},
     "output_type": "execute_result"
    }
   ],
   "source": [
    "data"
   ]
  },
  {
   "cell_type": "code",
   "execution_count": 4,
   "id": "5f2d8292",
   "metadata": {},
   "outputs": [
    {
     "data": {
      "text/plain": [
       "array([0., 0., 0., ..., 1., 1., 1.])"
      ]
     },
     "execution_count": 4,
     "metadata": {},
     "output_type": "execute_result"
    }
   ],
   "source": [
    "labels = data[:,4]\n",
    "labels"
   ]
  },
  {
   "cell_type": "markdown",
   "id": "5216efc4",
   "metadata": {},
   "source": [
    "0 real 1 fake"
   ]
  },
  {
   "cell_type": "code",
   "execution_count": 5,
   "id": "964c0fbf",
   "metadata": {},
   "outputs": [
    {
     "data": {
      "text/plain": [
       "array([[  3.6216 ,   8.6661 ,  -2.8073 ,  -0.44699],\n",
       "       [  4.5459 ,   8.1674 ,  -2.4586 ,  -1.4621 ],\n",
       "       [  3.866  ,  -2.6383 ,   1.9242 ,   0.10645],\n",
       "       ...,\n",
       "       [ -3.7503 , -13.4586 ,  17.5932 ,  -2.7771 ],\n",
       "       [ -3.5637 ,  -8.3827 ,  12.393  ,  -1.2823 ],\n",
       "       [ -2.5419 ,  -0.65804,   2.6842 ,   1.1952 ]])"
      ]
     },
     "execution_count": 5,
     "metadata": {},
     "output_type": "execute_result"
    }
   ],
   "source": [
    "features = data[:,0:4]\n",
    "features"
   ]
  },
  {
   "cell_type": "code",
   "execution_count": 6,
   "id": "841ca82b",
   "metadata": {},
   "outputs": [],
   "source": [
    "X = features\n",
    "y = labels"
   ]
  },
  {
   "cell_type": "markdown",
   "id": "ccd877ad",
   "metadata": {},
   "source": [
    "Train Test Split"
   ]
  },
  {
   "cell_type": "code",
   "execution_count": 7,
   "id": "d1c62b5a",
   "metadata": {},
   "outputs": [],
   "source": [
    "from sklearn.model_selection import train_test_split"
   ]
  },
  {
   "cell_type": "code",
   "execution_count": 32,
   "id": "1c541c97",
   "metadata": {},
   "outputs": [],
   "source": [
    "X_train, X_test, y_train, y_test = train_test_split(X, y, test_size=0.20, random_state=42)"
   ]
  },
  {
   "cell_type": "code",
   "execution_count": 33,
   "id": "752b0cb0",
   "metadata": {},
   "outputs": [
    {
     "data": {
      "text/plain": [
       "array([[-1.3885  , 12.5026  ,  0.69118 , -7.5487  ],\n",
       "       [ 2.7744  ,  6.8576  , -1.0671  ,  0.075416],\n",
       "       [-4.2887  , -7.8633  , 11.8387  , -1.8978  ],\n",
       "       ...,\n",
       "       [-7.0364  ,  9.2931  ,  0.16594 , -4.5396  ],\n",
       "       [-3.4605  ,  2.6901  ,  0.16165 , -1.0224  ],\n",
       "       [-3.3582  , -7.2404  , 11.4419  , -0.57113 ]])"
      ]
     },
     "execution_count": 33,
     "metadata": {},
     "output_type": "execute_result"
    }
   ],
   "source": [
    "X_train"
   ]
  },
  {
   "cell_type": "code",
   "execution_count": 34,
   "id": "4a1978f2",
   "metadata": {},
   "outputs": [
    {
     "data": {
      "text/plain": [
       "array([[ 1.5691  ,  6.3465  , -0.1828  , -2.4099  ],\n",
       "       [-0.27802 ,  8.1881  , -3.1338  , -2.5276  ],\n",
       "       [ 0.051979,  7.0521  , -2.0541  , -3.1508  ],\n",
       "       ...,\n",
       "       [ 3.4626  , -4.449   ,  3.5427  ,  0.15429 ],\n",
       "       [-0.278   ,  8.1881  , -3.1338  , -2.5276  ],\n",
       "       [ 2.7831  , 10.9796  , -3.557   , -4.4039  ]])"
      ]
     },
     "execution_count": 34,
     "metadata": {},
     "output_type": "execute_result"
    }
   ],
   "source": [
    "X_test"
   ]
  },
  {
   "cell_type": "code",
   "execution_count": 35,
   "id": "038f2520",
   "metadata": {},
   "outputs": [
    {
     "data": {
      "text/plain": [
       "array([0., 0., 0., 0., 0., 0., 0., 0., 0., 0., 1., 1., 0., 1., 0., 1., 1.,\n",
       "       1., 1., 1., 0., 0., 1., 0., 1., 0., 0., 1., 0., 0., 1., 0., 0., 1.,\n",
       "       1., 0., 1., 1., 1., 0., 0., 1., 1., 0., 1., 1., 1., 0., 0., 1., 0.,\n",
       "       0., 0., 0., 0., 1., 0., 0., 0., 0., 1., 0., 1., 0., 0., 0., 0., 0.,\n",
       "       0., 1., 1., 0., 1., 0., 1., 0., 0., 1., 1., 1., 1., 0., 1., 0., 0.,\n",
       "       0., 0., 1., 1., 0., 0., 0., 1., 1., 0., 1., 1., 0., 0., 0., 1., 0.,\n",
       "       0., 0., 1., 0., 0., 1., 1., 1., 1., 1., 0., 1., 1., 1., 0., 1., 1.,\n",
       "       0., 1., 0., 1., 0., 1., 0., 1., 1., 0., 1., 1., 0., 0., 0., 0., 0.,\n",
       "       1., 0., 0., 0., 0., 0., 1., 0., 1., 1., 1., 1., 1., 0., 1., 1., 1.,\n",
       "       0., 1., 0., 1., 0., 0., 0., 1., 1., 1., 1., 1., 0., 1., 0., 0., 0.,\n",
       "       0., 0., 0., 1., 0., 0., 1., 1., 0., 0., 0., 0., 1., 0., 1., 0., 1.,\n",
       "       1., 0., 0., 1., 0., 0., 1., 1., 1., 1., 0., 0., 1., 1., 1., 0., 0.,\n",
       "       1., 1., 1., 1., 0., 0., 0., 0., 0., 0., 0., 0., 0., 0., 1., 1., 1.,\n",
       "       1., 1., 0., 1., 0., 0., 1., 1., 1., 1., 0., 1., 0., 1., 1., 1., 1.,\n",
       "       0., 0., 0., 1., 0., 1., 1., 1., 0., 0., 0., 0., 0., 0., 1., 0., 1.,\n",
       "       0., 0., 0., 1., 1., 0., 0., 0., 1., 1., 0., 1., 0., 1., 1., 1., 1.,\n",
       "       0., 0., 0.])"
      ]
     },
     "execution_count": 35,
     "metadata": {},
     "output_type": "execute_result"
    }
   ],
   "source": [
    "y_test"
   ]
  },
  {
   "cell_type": "markdown",
   "id": "c846235b",
   "metadata": {},
   "source": [
    "Standardizing the Data"
   ]
  },
  {
   "cell_type": "code",
   "execution_count": 36,
   "id": "cb631a5f",
   "metadata": {},
   "outputs": [],
   "source": [
    "from sklearn.preprocessing import MinMaxScaler"
   ]
  },
  {
   "cell_type": "code",
   "execution_count": 37,
   "id": "4c03d1f9",
   "metadata": {},
   "outputs": [],
   "source": [
    "scaler_object = MinMaxScaler()"
   ]
  },
  {
   "cell_type": "code",
   "execution_count": 38,
   "id": "4d1dce47",
   "metadata": {},
   "outputs": [
    {
     "data": {
      "text/html": [
       "<style>#sk-container-id-2 {color: black;}#sk-container-id-2 pre{padding: 0;}#sk-container-id-2 div.sk-toggleable {background-color: white;}#sk-container-id-2 label.sk-toggleable__label {cursor: pointer;display: block;width: 100%;margin-bottom: 0;padding: 0.3em;box-sizing: border-box;text-align: center;}#sk-container-id-2 label.sk-toggleable__label-arrow:before {content: \"▸\";float: left;margin-right: 0.25em;color: #696969;}#sk-container-id-2 label.sk-toggleable__label-arrow:hover:before {color: black;}#sk-container-id-2 div.sk-estimator:hover label.sk-toggleable__label-arrow:before {color: black;}#sk-container-id-2 div.sk-toggleable__content {max-height: 0;max-width: 0;overflow: hidden;text-align: left;background-color: #f0f8ff;}#sk-container-id-2 div.sk-toggleable__content pre {margin: 0.2em;color: black;border-radius: 0.25em;background-color: #f0f8ff;}#sk-container-id-2 input.sk-toggleable__control:checked~div.sk-toggleable__content {max-height: 200px;max-width: 100%;overflow: auto;}#sk-container-id-2 input.sk-toggleable__control:checked~label.sk-toggleable__label-arrow:before {content: \"▾\";}#sk-container-id-2 div.sk-estimator input.sk-toggleable__control:checked~label.sk-toggleable__label {background-color: #d4ebff;}#sk-container-id-2 div.sk-label input.sk-toggleable__control:checked~label.sk-toggleable__label {background-color: #d4ebff;}#sk-container-id-2 input.sk-hidden--visually {border: 0;clip: rect(1px 1px 1px 1px);clip: rect(1px, 1px, 1px, 1px);height: 1px;margin: -1px;overflow: hidden;padding: 0;position: absolute;width: 1px;}#sk-container-id-2 div.sk-estimator {font-family: monospace;background-color: #f0f8ff;border: 1px dotted black;border-radius: 0.25em;box-sizing: border-box;margin-bottom: 0.5em;}#sk-container-id-2 div.sk-estimator:hover {background-color: #d4ebff;}#sk-container-id-2 div.sk-parallel-item::after {content: \"\";width: 100%;border-bottom: 1px solid gray;flex-grow: 1;}#sk-container-id-2 div.sk-label:hover label.sk-toggleable__label {background-color: #d4ebff;}#sk-container-id-2 div.sk-serial::before {content: \"\";position: absolute;border-left: 1px solid gray;box-sizing: border-box;top: 0;bottom: 0;left: 50%;z-index: 0;}#sk-container-id-2 div.sk-serial {display: flex;flex-direction: column;align-items: center;background-color: white;padding-right: 0.2em;padding-left: 0.2em;position: relative;}#sk-container-id-2 div.sk-item {position: relative;z-index: 1;}#sk-container-id-2 div.sk-parallel {display: flex;align-items: stretch;justify-content: center;background-color: white;position: relative;}#sk-container-id-2 div.sk-item::before, #sk-container-id-2 div.sk-parallel-item::before {content: \"\";position: absolute;border-left: 1px solid gray;box-sizing: border-box;top: 0;bottom: 0;left: 50%;z-index: -1;}#sk-container-id-2 div.sk-parallel-item {display: flex;flex-direction: column;z-index: 1;position: relative;background-color: white;}#sk-container-id-2 div.sk-parallel-item:first-child::after {align-self: flex-end;width: 50%;}#sk-container-id-2 div.sk-parallel-item:last-child::after {align-self: flex-start;width: 50%;}#sk-container-id-2 div.sk-parallel-item:only-child::after {width: 0;}#sk-container-id-2 div.sk-dashed-wrapped {border: 1px dashed gray;margin: 0 0.4em 0.5em 0.4em;box-sizing: border-box;padding-bottom: 0.4em;background-color: white;}#sk-container-id-2 div.sk-label label {font-family: monospace;font-weight: bold;display: inline-block;line-height: 1.2em;}#sk-container-id-2 div.sk-label-container {text-align: center;}#sk-container-id-2 div.sk-container {/* jupyter's `normalize.less` sets `[hidden] { display: none; }` but bootstrap.min.css set `[hidden] { display: none !important; }` so we also need the `!important` here to be able to override the default hidden behavior on the sphinx rendered scikit-learn.org. See: https://github.com/scikit-learn/scikit-learn/issues/21755 */display: inline-block !important;position: relative;}#sk-container-id-2 div.sk-text-repr-fallback {display: none;}</style><div id=\"sk-container-id-2\" class=\"sk-top-container\"><div class=\"sk-text-repr-fallback\"><pre>MinMaxScaler()</pre><b>In a Jupyter environment, please rerun this cell to show the HTML representation or trust the notebook. <br />On GitHub, the HTML representation is unable to render, please try loading this page with nbviewer.org.</b></div><div class=\"sk-container\" hidden><div class=\"sk-item\"><div class=\"sk-estimator sk-toggleable\"><input class=\"sk-toggleable__control sk-hidden--visually\" id=\"sk-estimator-id-2\" type=\"checkbox\" checked><label for=\"sk-estimator-id-2\" class=\"sk-toggleable__label sk-toggleable__label-arrow\">MinMaxScaler</label><div class=\"sk-toggleable__content\"><pre>MinMaxScaler()</pre></div></div></div></div></div>"
      ],
      "text/plain": [
       "MinMaxScaler()"
      ]
     },
     "execution_count": 38,
     "metadata": {},
     "output_type": "execute_result"
    }
   ],
   "source": [
    "scaler_object.fit(X_train)"
   ]
  },
  {
   "cell_type": "code",
   "execution_count": 39,
   "id": "d0a92cfc",
   "metadata": {},
   "outputs": [],
   "source": [
    "scaled_X_train = scaler_object.transform(X_train)"
   ]
  },
  {
   "cell_type": "code",
   "execution_count": 40,
   "id": "1ee17f11",
   "metadata": {},
   "outputs": [],
   "source": [
    "scaled_X_test = scaler_object.transform(X_test)"
   ]
  },
  {
   "cell_type": "code",
   "execution_count": 41,
   "id": "d475d78b",
   "metadata": {},
   "outputs": [
    {
     "data": {
      "text/plain": [
       "array([[4.07704678e-01, 9.83199063e-01, 2.56697443e-01, 9.33178971e-02],\n",
       "       [7.07908761e-01, 7.71971248e-01, 1.80872580e-01, 8.05140280e-01],\n",
       "       [1.98559159e-01, 2.21136252e-01, 7.37428144e-01, 6.20911798e-01],\n",
       "       ...,\n",
       "       [4.11050776e-04, 8.63104170e-01, 2.34046756e-01, 3.74261253e-01],\n",
       "       [2.58284115e-01, 6.16029366e-01, 2.33861752e-01, 7.02643151e-01],\n",
       "       [2.65661395e-01, 2.44444278e-01, 7.20316361e-01, 7.44775785e-01]])"
      ]
     },
     "execution_count": 41,
     "metadata": {},
     "output_type": "execute_result"
    }
   ],
   "source": [
    "scaled_X_train"
   ]
  },
  {
   "cell_type": "code",
   "execution_count": 42,
   "id": "e4344d11",
   "metadata": {},
   "outputs": [
    {
     "data": {
      "text/plain": [
       "array([[-1.3885  , 12.5026  ,  0.69118 , -7.5487  ],\n",
       "       [ 2.7744  ,  6.8576  , -1.0671  ,  0.075416],\n",
       "       [-4.2887  , -7.8633  , 11.8387  , -1.8978  ],\n",
       "       ...,\n",
       "       [-7.0364  ,  9.2931  ,  0.16594 , -4.5396  ],\n",
       "       [-3.4605  ,  2.6901  ,  0.16165 , -1.0224  ],\n",
       "       [-3.3582  , -7.2404  , 11.4419  , -0.57113 ]])"
      ]
     },
     "execution_count": 42,
     "metadata": {},
     "output_type": "execute_result"
    }
   ],
   "source": [
    "X_train"
   ]
  },
  {
   "cell_type": "markdown",
   "id": "10896e5f",
   "metadata": {},
   "source": [
    "Building the Model"
   ]
  },
  {
   "cell_type": "code",
   "execution_count": 43,
   "id": "f2c86145",
   "metadata": {},
   "outputs": [],
   "source": [
    "from keras.models import Sequential\n",
    "from keras.layers import Dense"
   ]
  },
  {
   "cell_type": "code",
   "execution_count": 44,
   "id": "8b293f3c",
   "metadata": {},
   "outputs": [],
   "source": [
    "#initiating model\n",
    "model = Sequential()\n",
    "\n",
    "model.add(Dense(4, input_dim=4, activation='relu'))\n",
    "\n",
    "model.add(Dense(8, activation='relu'))\n",
    "\n",
    "model.add(Dense(1, activation='sigmoid'))"
   ]
  },
  {
   "cell_type": "markdown",
   "id": "9fb85031",
   "metadata": {},
   "source": [
    "Compile Model"
   ]
  },
  {
   "cell_type": "code",
   "execution_count": 45,
   "id": "6cab2317",
   "metadata": {},
   "outputs": [],
   "source": [
    "model.compile(loss=\"binary_crossentropy\", optimizer='adam', metrics=['accuracy'])"
   ]
  },
  {
   "cell_type": "code",
   "execution_count": 46,
   "id": "ecca43f5",
   "metadata": {},
   "outputs": [
    {
     "name": "stdout",
     "output_type": "stream",
     "text": [
      "Epoch 1/10\n",
      "35/35 - 1s - loss: 0.6814 - accuracy: 0.4886 - 1s/epoch - 29ms/step\n",
      "Epoch 2/10\n",
      "35/35 - 0s - loss: 0.6653 - accuracy: 0.6627 - 65ms/epoch - 2ms/step\n",
      "Epoch 3/10\n",
      "35/35 - 0s - loss: 0.6479 - accuracy: 0.6964 - 66ms/epoch - 2ms/step\n",
      "Epoch 4/10\n",
      "35/35 - 0s - loss: 0.6330 - accuracy: 0.6974 - 70ms/epoch - 2ms/step\n",
      "Epoch 5/10\n",
      "35/35 - 0s - loss: 0.6196 - accuracy: 0.7028 - 77ms/epoch - 2ms/step\n",
      "Epoch 6/10\n",
      "35/35 - 0s - loss: 0.6063 - accuracy: 0.7156 - 69ms/epoch - 2ms/step\n",
      "Epoch 7/10\n",
      "35/35 - 0s - loss: 0.5928 - accuracy: 0.7247 - 74ms/epoch - 2ms/step\n",
      "Epoch 8/10\n",
      "35/35 - 0s - loss: 0.5794 - accuracy: 0.7320 - 69ms/epoch - 2ms/step\n",
      "Epoch 9/10\n",
      "35/35 - 0s - loss: 0.5662 - accuracy: 0.7366 - 68ms/epoch - 2ms/step\n",
      "Epoch 10/10\n",
      "35/35 - 0s - loss: 0.5533 - accuracy: 0.7420 - 78ms/epoch - 2ms/step\n"
     ]
    },
    {
     "data": {
      "text/plain": [
       "<keras.src.callbacks.History at 0x2c363de3350>"
      ]
     },
     "execution_count": 46,
     "metadata": {},
     "output_type": "execute_result"
    }
   ],
   "source": [
    "model.fit(scaled_X_train, y_train, epochs=10, verbose=2)"
   ]
  },
  {
   "cell_type": "code",
   "execution_count": 47,
   "id": "41d18264",
   "metadata": {},
   "outputs": [
    {
     "data": {
      "text/plain": [
       "array([[0.62098955, 0.75284662, 0.21900753, 0.5730998 ],\n",
       "       [0.48778602, 0.82175665, 0.09174727, 0.56211079],\n",
       "       [0.51158363, 0.77924916, 0.13830875, 0.50392598],\n",
       "       ...,\n",
       "       [0.75753773, 0.34889447, 0.37966768, 0.81250432],\n",
       "       [0.48778747, 0.82175665, 0.09174727, 0.56211079],\n",
       "       [0.70853615, 0.92621058, 0.07349701, 0.38693083]])"
      ]
     },
     "execution_count": 47,
     "metadata": {},
     "output_type": "execute_result"
    }
   ],
   "source": [
    "scaled_X_test"
   ]
  },
  {
   "cell_type": "code",
   "execution_count": 48,
   "id": "c6303f01",
   "metadata": {},
   "outputs": [
    {
     "name": "stdout",
     "output_type": "stream",
     "text": [
      "9/9 [==============================] - 0s 2ms/step\n"
     ]
    },
    {
     "data": {
      "text/plain": [
       "array([[0.33224678],\n",
       "       [0.3632253 ],\n",
       "       [0.36756116],\n",
       "       [0.6838038 ],\n",
       "       [0.2633124 ],\n",
       "       [0.23878671],\n",
       "       [0.4606687 ],\n",
       "       [0.2063557 ],\n",
       "       [0.24679485],\n",
       "       [0.44485015],\n",
       "       [0.2615538 ],\n",
       "       [0.34409884],\n",
       "       [0.5864433 ],\n",
       "       [0.5742411 ],\n",
       "       [0.7410789 ],\n",
       "       [0.2520381 ],\n",
       "       [0.5356875 ],\n",
       "       [0.5353093 ],\n",
       "       [0.811907  ],\n",
       "       [0.5868068 ],\n",
       "       [0.26808655],\n",
       "       [0.40083233],\n",
       "       [0.5280943 ],\n",
       "       [0.2374287 ],\n",
       "       [0.7038113 ],\n",
       "       [0.23428021],\n",
       "       [0.27133173],\n",
       "       [0.57253015],\n",
       "       [0.2065916 ],\n",
       "       [0.20869987],\n",
       "       [0.31706434],\n",
       "       [0.40536568],\n",
       "       [0.42352673],\n",
       "       [0.7347569 ],\n",
       "       [0.64519215],\n",
       "       [0.24011432],\n",
       "       [0.2599538 ],\n",
       "       [0.31376266],\n",
       "       [0.37013057],\n",
       "       [0.3993823 ],\n",
       "       [0.4887696 ],\n",
       "       [0.3428362 ],\n",
       "       [0.33064583],\n",
       "       [0.27194002],\n",
       "       [0.56633097],\n",
       "       [0.70587784],\n",
       "       [0.49581766],\n",
       "       [0.26789036],\n",
       "       [0.4463939 ],\n",
       "       [0.2600417 ],\n",
       "       [0.25009552],\n",
       "       [0.20739849],\n",
       "       [0.4641048 ],\n",
       "       [0.242182  ],\n",
       "       [0.47479102],\n",
       "       [0.300867  ],\n",
       "       [0.6225984 ],\n",
       "       [0.22949383],\n",
       "       [0.24760546],\n",
       "       [0.25969294],\n",
       "       [0.6257847 ],\n",
       "       [0.31776202],\n",
       "       [0.2881685 ],\n",
       "       [0.2729064 ],\n",
       "       [0.6546607 ],\n",
       "       [0.23096885],\n",
       "       [0.2648349 ],\n",
       "       [0.3289764 ],\n",
       "       [0.69009316],\n",
       "       [0.28620252],\n",
       "       [0.7001973 ],\n",
       "       [0.26648673],\n",
       "       [0.6840254 ],\n",
       "       [0.19803521],\n",
       "       [0.3542371 ],\n",
       "       [0.41685998],\n",
       "       [0.24210906],\n",
       "       [0.34430876],\n",
       "       [0.5418676 ],\n",
       "       [0.3321825 ],\n",
       "       [0.36971927],\n",
       "       [0.31336084],\n",
       "       [0.27777356],\n",
       "       [0.2858044 ],\n",
       "       [0.33635068],\n",
       "       [0.2343395 ],\n",
       "       [0.2684655 ],\n",
       "       [0.58063465],\n",
       "       [0.27496347],\n",
       "       [0.34795693],\n",
       "       [0.24055633],\n",
       "       [0.29256725],\n",
       "       [0.3501846 ],\n",
       "       [0.2906799 ],\n",
       "       [0.32296783],\n",
       "       [0.7874683 ],\n",
       "       [0.6758156 ],\n",
       "       [0.3338261 ],\n",
       "       [0.26808327],\n",
       "       [0.26505804],\n",
       "       [0.7959839 ],\n",
       "       [0.24063055],\n",
       "       [0.44722596],\n",
       "       [0.27151608],\n",
       "       [0.7316206 ],\n",
       "       [0.20987086],\n",
       "       [0.26389548],\n",
       "       [0.27808526],\n",
       "       [0.80306834],\n",
       "       [0.7897708 ],\n",
       "       [0.51983637],\n",
       "       [0.2746579 ],\n",
       "       [0.3240961 ],\n",
       "       [0.59456193],\n",
       "       [0.47823647],\n",
       "       [0.6183655 ],\n",
       "       [0.22309579],\n",
       "       [0.68788624],\n",
       "       [0.77915716],\n",
       "       [0.22243379],\n",
       "       [0.77793396],\n",
       "       [0.33649513],\n",
       "       [0.2625778 ],\n",
       "       [0.28946966],\n",
       "       [0.26687515],\n",
       "       [0.47245973],\n",
       "       [0.6421718 ],\n",
       "       [0.42988133],\n",
       "       [0.36646378],\n",
       "       [0.4350697 ],\n",
       "       [0.72354347],\n",
       "       [0.6837016 ],\n",
       "       [0.4919081 ],\n",
       "       [0.2553024 ],\n",
       "       [0.23679137],\n",
       "       [0.3052872 ],\n",
       "       [0.50018525],\n",
       "       [0.23673032],\n",
       "       [0.3439004 ],\n",
       "       [0.5061538 ],\n",
       "       [0.24995098],\n",
       "       [0.270669  ],\n",
       "       [0.66038364],\n",
       "       [0.49570185],\n",
       "       [0.27873713],\n",
       "       [0.24141409],\n",
       "       [0.2647003 ],\n",
       "       [0.2812299 ],\n",
       "       [0.29118395],\n",
       "       [0.25063354],\n",
       "       [0.26804984],\n",
       "       [0.39068308],\n",
       "       [0.780187  ],\n",
       "       [0.2193249 ],\n",
       "       [0.27536866],\n",
       "       [0.24016067],\n",
       "       [0.27839378],\n",
       "       [0.44232395],\n",
       "       [0.33850384],\n",
       "       [0.4142577 ],\n",
       "       [0.5876097 ],\n",
       "       [0.6311293 ],\n",
       "       [0.44919077],\n",
       "       [0.4868367 ],\n",
       "       [0.29298198],\n",
       "       [0.25787932],\n",
       "       [0.5915956 ],\n",
       "       [0.35084882],\n",
       "       [0.2355213 ],\n",
       "       [0.35056275],\n",
       "       [0.40693486],\n",
       "       [0.25566772],\n",
       "       [0.28889957],\n",
       "       [0.5155035 ],\n",
       "       [0.4024483 ],\n",
       "       [0.411696  ],\n",
       "       [0.45979127],\n",
       "       [0.6019457 ],\n",
       "       [0.43867266],\n",
       "       [0.22740152],\n",
       "       [0.3472168 ],\n",
       "       [0.6814952 ],\n",
       "       [0.6010288 ],\n",
       "       [0.36271983],\n",
       "       [0.62149173],\n",
       "       [0.2774519 ],\n",
       "       [0.77540797],\n",
       "       [0.37290817],\n",
       "       [0.2668263 ],\n",
       "       [0.28108037],\n",
       "       [0.5463056 ],\n",
       "       [0.30548328],\n",
       "       [0.34359518],\n",
       "       [0.68321365],\n",
       "       [0.51178074],\n",
       "       [0.3888281 ],\n",
       "       [0.29306397],\n",
       "       [0.70376164],\n",
       "       [0.7127171 ],\n",
       "       [0.61716455],\n",
       "       [0.7881083 ],\n",
       "       [0.57638913],\n",
       "       [0.2420916 ],\n",
       "       [0.6944409 ],\n",
       "       [0.40828827],\n",
       "       [0.68573   ],\n",
       "       [0.689651  ],\n",
       "       [0.2986622 ],\n",
       "       [0.64349204],\n",
       "       [0.22395012],\n",
       "       [0.38262242],\n",
       "       [0.2656097 ],\n",
       "       [0.48906425],\n",
       "       [0.29731673],\n",
       "       [0.23585802],\n",
       "       [0.23853639],\n",
       "       [0.41685998],\n",
       "       [0.36604646],\n",
       "       [0.7207152 ],\n",
       "       [0.6975888 ],\n",
       "       [0.62567437],\n",
       "       [0.6642173 ],\n",
       "       [0.44055098],\n",
       "       [0.38523224],\n",
       "       [0.40379453],\n",
       "       [0.24006632],\n",
       "       [0.70990276],\n",
       "       [0.7987811 ],\n",
       "       [0.8076683 ],\n",
       "       [0.6610094 ],\n",
       "       [0.49837795],\n",
       "       [0.42558625],\n",
       "       [0.37395346],\n",
       "       [0.22431011],\n",
       "       [0.70910466],\n",
       "       [0.7209527 ],\n",
       "       [0.34435362],\n",
       "       [0.49878693],\n",
       "       [0.28220028],\n",
       "       [0.27024034],\n",
       "       [0.35150868],\n",
       "       [0.6532384 ],\n",
       "       [0.25232327],\n",
       "       [0.574098  ],\n",
       "       [0.48860836],\n",
       "       [0.60889226],\n",
       "       [0.49045444],\n",
       "       [0.2540271 ],\n",
       "       [0.24944894],\n",
       "       [0.4546815 ],\n",
       "       [0.19467288],\n",
       "       [0.26437202],\n",
       "       [0.59808517],\n",
       "       [0.44647652],\n",
       "       [0.23784779],\n",
       "       [0.2509491 ],\n",
       "       [0.23183352],\n",
       "       [0.390096  ],\n",
       "       [0.68929046],\n",
       "       [0.60880136],\n",
       "       [0.52675575],\n",
       "       [0.32399943],\n",
       "       [0.2224094 ],\n",
       "       [0.5607486 ],\n",
       "       [0.3730658 ],\n",
       "       [0.24549477],\n",
       "       [0.3632348 ],\n",
       "       [0.25621253],\n",
       "       [0.67896247],\n",
       "       [0.5098224 ],\n",
       "       [0.60970056],\n",
       "       [0.26739502],\n",
       "       [0.27060208],\n",
       "       [0.36322406],\n",
       "       [0.26309362]], dtype=float32)"
      ]
     },
     "execution_count": 48,
     "metadata": {},
     "output_type": "execute_result"
    }
   ],
   "source": [
    "model.predict(scaled_X_test)"
   ]
  },
  {
   "cell_type": "code",
   "execution_count": 49,
   "id": "b064158e",
   "metadata": {},
   "outputs": [],
   "source": [
    "#model.predict_classes(scaled_X_test)"
   ]
  },
  {
   "cell_type": "markdown",
   "id": "113118a7",
   "metadata": {},
   "source": [
    "Evaluating Model"
   ]
  },
  {
   "cell_type": "code",
   "execution_count": 50,
   "id": "ac0f0d3f",
   "metadata": {},
   "outputs": [
    {
     "data": {
      "text/plain": [
       "['loss', 'accuracy']"
      ]
     },
     "execution_count": 50,
     "metadata": {},
     "output_type": "execute_result"
    }
   ],
   "source": [
    "model.metrics_names"
   ]
  },
  {
   "cell_type": "code",
   "execution_count": 51,
   "id": "d706c03f",
   "metadata": {},
   "outputs": [
    {
     "name": "stdout",
     "output_type": "stream",
     "text": [
      "9/9 [==============================] - 0s 3ms/step - loss: 0.5833 - accuracy: 0.7345\n"
     ]
    },
    {
     "data": {
      "text/plain": [
       "[0.5833358764648438, 0.7345454692840576]"
      ]
     },
     "execution_count": 51,
     "metadata": {},
     "output_type": "execute_result"
    }
   ],
   "source": [
    "model.evaluate(x=scaled_X_test, y=y_test)"
   ]
  },
  {
   "cell_type": "code",
   "execution_count": 52,
   "id": "d9207d93",
   "metadata": {},
   "outputs": [],
   "source": [
    "from sklearn.metrics import confusion_matrix, classification_report"
   ]
  },
  {
   "cell_type": "code",
   "execution_count": 54,
   "id": "71ebc3ad",
   "metadata": {},
   "outputs": [
    {
     "name": "stdout",
     "output_type": "stream",
     "text": [
      "9/9 [==============================] - 0s 3ms/step\n"
     ]
    }
   ],
   "source": [
    "predict_x=model.predict(scaled_X_test) \n",
    "classes_x=np.argmax(predict_x,axis=1)"
   ]
  },
  {
   "cell_type": "code",
   "execution_count": 55,
   "id": "16ecac92",
   "metadata": {},
   "outputs": [
    {
     "data": {
      "text/plain": [
       "array([0, 0, 0, 0, 0, 0, 0, 0, 0, 0, 0, 0, 0, 0, 0, 0, 0, 0, 0, 0, 0, 0,\n",
       "       0, 0, 0, 0, 0, 0, 0, 0, 0, 0, 0, 0, 0, 0, 0, 0, 0, 0, 0, 0, 0, 0,\n",
       "       0, 0, 0, 0, 0, 0, 0, 0, 0, 0, 0, 0, 0, 0, 0, 0, 0, 0, 0, 0, 0, 0,\n",
       "       0, 0, 0, 0, 0, 0, 0, 0, 0, 0, 0, 0, 0, 0, 0, 0, 0, 0, 0, 0, 0, 0,\n",
       "       0, 0, 0, 0, 0, 0, 0, 0, 0, 0, 0, 0, 0, 0, 0, 0, 0, 0, 0, 0, 0, 0,\n",
       "       0, 0, 0, 0, 0, 0, 0, 0, 0, 0, 0, 0, 0, 0, 0, 0, 0, 0, 0, 0, 0, 0,\n",
       "       0, 0, 0, 0, 0, 0, 0, 0, 0, 0, 0, 0, 0, 0, 0, 0, 0, 0, 0, 0, 0, 0,\n",
       "       0, 0, 0, 0, 0, 0, 0, 0, 0, 0, 0, 0, 0, 0, 0, 0, 0, 0, 0, 0, 0, 0,\n",
       "       0, 0, 0, 0, 0, 0, 0, 0, 0, 0, 0, 0, 0, 0, 0, 0, 0, 0, 0, 0, 0, 0,\n",
       "       0, 0, 0, 0, 0, 0, 0, 0, 0, 0, 0, 0, 0, 0, 0, 0, 0, 0, 0, 0, 0, 0,\n",
       "       0, 0, 0, 0, 0, 0, 0, 0, 0, 0, 0, 0, 0, 0, 0, 0, 0, 0, 0, 0, 0, 0,\n",
       "       0, 0, 0, 0, 0, 0, 0, 0, 0, 0, 0, 0, 0, 0, 0, 0, 0, 0, 0, 0, 0, 0,\n",
       "       0, 0, 0, 0, 0, 0, 0, 0, 0, 0, 0], dtype=int64)"
      ]
     },
     "execution_count": 55,
     "metadata": {},
     "output_type": "execute_result"
    }
   ],
   "source": [
    "classes_x"
   ]
  },
  {
   "cell_type": "code",
   "execution_count": 57,
   "id": "7640ff5e",
   "metadata": {},
   "outputs": [
    {
     "data": {
      "text/plain": [
       "array([[148,   0],\n",
       "       [127,   0]], dtype=int64)"
      ]
     },
     "execution_count": 57,
     "metadata": {},
     "output_type": "execute_result"
    }
   ],
   "source": [
    "confusion_matrix(y_test, classes_x)"
   ]
  },
  {
   "cell_type": "code",
   "execution_count": 59,
   "id": "70a4beb2",
   "metadata": {},
   "outputs": [
    {
     "name": "stdout",
     "output_type": "stream",
     "text": [
      "9/9 [==============================] - 0s 2ms/step\n"
     ]
    }
   ],
   "source": [
    "predictions = (model.predict(scaled_X_test) > 0.5).astype(\"int32\")"
   ]
  },
  {
   "cell_type": "code",
   "execution_count": 61,
   "id": "5cdd463e",
   "metadata": {},
   "outputs": [
    {
     "data": {
      "text/plain": [
       "array([[133,  15],\n",
       "       [ 58,  69]], dtype=int64)"
      ]
     },
     "execution_count": 61,
     "metadata": {},
     "output_type": "execute_result"
    }
   ],
   "source": [
    "confusion_matrix(y_test, predictions)"
   ]
  },
  {
   "cell_type": "code",
   "execution_count": 62,
   "id": "d9217006",
   "metadata": {},
   "outputs": [
    {
     "name": "stdout",
     "output_type": "stream",
     "text": [
      "              precision    recall  f1-score   support\n",
      "\n",
      "         0.0       0.70      0.90      0.78       148\n",
      "         1.0       0.82      0.54      0.65       127\n",
      "\n",
      "    accuracy                           0.73       275\n",
      "   macro avg       0.76      0.72      0.72       275\n",
      "weighted avg       0.75      0.73      0.72       275\n",
      "\n"
     ]
    }
   ],
   "source": [
    "print(classification_report(y_test, predictions))"
   ]
  },
  {
   "cell_type": "code",
   "execution_count": 63,
   "id": "be7cbcdd",
   "metadata": {},
   "outputs": [
    {
     "name": "stdout",
     "output_type": "stream",
     "text": [
      "INFO:tensorflow:Assets written to: mydeeplearningmodel\\assets\n"
     ]
    },
    {
     "name": "stderr",
     "output_type": "stream",
     "text": [
      "INFO:tensorflow:Assets written to: mydeeplearningmodel\\assets\n"
     ]
    }
   ],
   "source": [
    "model.save('mydeeplearningmodel')"
   ]
  },
  {
   "cell_type": "code",
   "execution_count": 64,
   "id": "e16b4d8b",
   "metadata": {},
   "outputs": [],
   "source": [
    "from keras.models import load_model"
   ]
  },
  {
   "cell_type": "code",
   "execution_count": 65,
   "id": "9c66ee5e",
   "metadata": {},
   "outputs": [
    {
     "name": "stdout",
     "output_type": "stream",
     "text": [
      "WARNING:tensorflow:From C:\\Users\\maaza\\anaconda3\\Lib\\site-packages\\keras\\src\\saving\\legacy\\saved_model\\load.py:107: The name tf.gfile.Exists is deprecated. Please use tf.io.gfile.exists instead.\n",
      "\n"
     ]
    },
    {
     "name": "stderr",
     "output_type": "stream",
     "text": [
      "WARNING:tensorflow:From C:\\Users\\maaza\\anaconda3\\Lib\\site-packages\\keras\\src\\saving\\legacy\\saved_model\\load.py:107: The name tf.gfile.Exists is deprecated. Please use tf.io.gfile.exists instead.\n",
      "\n"
     ]
    }
   ],
   "source": [
    "newmodel = load_model('mydeeplearningmodel')"
   ]
  },
  {
   "cell_type": "code",
   "execution_count": 66,
   "id": "4933fafd",
   "metadata": {},
   "outputs": [
    {
     "name": "stdout",
     "output_type": "stream",
     "text": [
      "9/9 [==============================] - 0s 3ms/step\n"
     ]
    },
    {
     "data": {
      "text/plain": [
       "array([[3.48742992e-01],\n",
       "       [1.90175906e-01],\n",
       "       [2.13085771e-01],\n",
       "       [9.53356802e-01],\n",
       "       [1.97661314e-02],\n",
       "       [7.78619619e-03],\n",
       "       [8.99593592e-01],\n",
       "       [9.17947385e-04],\n",
       "       [1.26485210e-02],\n",
       "       [9.71387208e-01],\n",
       "       [1.06357345e-02],\n",
       "       [1.41917169e-01],\n",
       "       [9.99594033e-01],\n",
       "       [9.97553349e-01],\n",
       "       [9.99969244e-01],\n",
       "       [3.59855918e-03],\n",
       "       [9.81907248e-01],\n",
       "       [9.75609124e-01],\n",
       "       [9.99999702e-01],\n",
       "       [9.96200979e-01],\n",
       "       [3.21757980e-02],\n",
       "       [9.85890925e-01],\n",
       "       [9.93792593e-01],\n",
       "       [4.07684641e-03],\n",
       "       [9.58086431e-01],\n",
       "       [7.03116832e-03],\n",
       "       [1.00278102e-01],\n",
       "       [9.96856570e-01],\n",
       "       [3.31199059e-04],\n",
       "       [1.41827355e-03],\n",
       "       [9.83189791e-02],\n",
       "       [9.70257044e-01],\n",
       "       [9.83788311e-01],\n",
       "       [9.40621853e-01],\n",
       "       [6.84985995e-01],\n",
       "       [8.68706591e-03],\n",
       "       [9.72967967e-03],\n",
       "       [1.11422397e-01],\n",
       "       [2.79218793e-01],\n",
       "       [9.61452246e-01],\n",
       "       [9.96525466e-01],\n",
       "       [1.88763469e-01],\n",
       "       [1.12269968e-01],\n",
       "       [3.82475927e-02],\n",
       "       [9.55014348e-01],\n",
       "       [9.99828219e-01],\n",
       "       [9.36712444e-01],\n",
       "       [5.18677533e-02],\n",
       "       [9.96084988e-01],\n",
       "       [5.83082391e-03],\n",
       "       [1.61364544e-02],\n",
       "       [9.69435612e-04],\n",
       "       [4.79888916e-01],\n",
       "       [1.10761449e-02],\n",
       "       [9.12140608e-01],\n",
       "       [4.93487865e-02],\n",
       "       [3.70574445e-01],\n",
       "       [6.10453961e-03],\n",
       "       [1.51949571e-02],\n",
       "       [2.14236621e-02],\n",
       "       [9.97878313e-01],\n",
       "       [5.42647958e-01],\n",
       "       [3.09407618e-02],\n",
       "       [1.24155805e-01],\n",
       "       [8.38428080e-01],\n",
       "       [6.03872351e-03],\n",
       "       [5.08083701e-02],\n",
       "       [5.41843951e-01],\n",
       "       [9.99538124e-01],\n",
       "       [2.64081825e-02],\n",
       "       [9.99846697e-01],\n",
       "       [2.72933152e-02],\n",
       "       [9.99758959e-01],\n",
       "       [5.90186741e-04],\n",
       "       [2.55542219e-01],\n",
       "       [8.41586649e-01],\n",
       "       [9.26287938e-03],\n",
       "       [1.43203601e-01],\n",
       "       [9.19815481e-01],\n",
       "       [1.56328827e-01],\n",
       "       [2.65760243e-01],\n",
       "       [1.74770027e-01],\n",
       "       [1.60772912e-02],\n",
       "       [1.49461731e-01],\n",
       "       [6.30313039e-01],\n",
       "       [3.63091333e-03],\n",
       "       [6.00959845e-02],\n",
       "       [9.81239259e-01],\n",
       "       [1.74115729e-02],\n",
       "       [8.66401970e-01],\n",
       "       [6.63942378e-03],\n",
       "       [1.78392664e-01],\n",
       "       [2.61379182e-01],\n",
       "       [2.92642321e-02],\n",
       "       [3.97205532e-01],\n",
       "       [9.99988258e-01],\n",
       "       [9.53998566e-01],\n",
       "       [1.48002908e-01],\n",
       "       [3.13930474e-02],\n",
       "       [3.89118977e-02],\n",
       "       [9.99992847e-01],\n",
       "       [8.54855310e-03],\n",
       "       [8.96453261e-01],\n",
       "       [5.65621406e-02],\n",
       "       [8.89088929e-01],\n",
       "       [1.15581881e-03],\n",
       "       [3.94406728e-02],\n",
       "       [1.87785123e-02],\n",
       "       [9.99998808e-01],\n",
       "       [9.99993443e-01],\n",
       "       [4.99764889e-01],\n",
       "       [1.82988625e-02],\n",
       "       [3.49027306e-01],\n",
       "       [9.23489809e-01],\n",
       "       [9.51788008e-01],\n",
       "       [6.18488073e-01],\n",
       "       [4.53589950e-03],\n",
       "       [9.99010682e-01],\n",
       "       [9.99967813e-01],\n",
       "       [2.54737586e-03],\n",
       "       [9.99977231e-01],\n",
       "       [7.50855625e-01],\n",
       "       [1.68518256e-02],\n",
       "       [1.88042715e-01],\n",
       "       [8.45595170e-03],\n",
       "       [9.48592663e-01],\n",
       "       [4.77842987e-01],\n",
       "       [2.52795875e-01],\n",
       "       [8.81953299e-01],\n",
       "       [2.10292831e-01],\n",
       "       [8.67318928e-01],\n",
       "       [9.50031042e-01],\n",
       "       [6.24075055e-01],\n",
       "       [2.21509449e-02],\n",
       "       [3.96641437e-03],\n",
       "       [3.44568461e-01],\n",
       "       [2.57246345e-01],\n",
       "       [4.50690323e-03],\n",
       "       [2.71922469e-01],\n",
       "       [3.94302607e-01],\n",
       "       [7.58008892e-03],\n",
       "       [5.49218170e-02],\n",
       "       [4.40521777e-01],\n",
       "       [9.93105650e-01],\n",
       "       [1.88112389e-02],\n",
       "       [1.99488155e-03],\n",
       "       [9.05309897e-03],\n",
       "       [2.16463488e-02],\n",
       "       [3.39499488e-02],\n",
       "       [1.09706642e-02],\n",
       "       [1.05814915e-02],\n",
       "       [5.17528832e-01],\n",
       "       [9.99974489e-01],\n",
       "       [1.12138689e-03],\n",
       "       [2.64274515e-02],\n",
       "       [1.06302304e-02],\n",
       "       [1.98712852e-02],\n",
       "       [5.95706046e-01],\n",
       "       [7.57551014e-01],\n",
       "       [9.90407228e-01],\n",
       "       [9.27967668e-01],\n",
       "       [4.46302384e-01],\n",
       "       [3.32905740e-01],\n",
       "       [9.55144286e-01],\n",
       "       [5.33962548e-02],\n",
       "       [3.41546461e-02],\n",
       "       [3.67000461e-01],\n",
       "       [4.83364761e-01],\n",
       "       [9.78076831e-03],\n",
       "       [9.53839719e-01],\n",
       "       [1.88765883e-01],\n",
       "       [2.72106063e-02],\n",
       "       [1.11545414e-01],\n",
       "       [9.52903986e-01],\n",
       "       [9.74820673e-01],\n",
       "       [9.84106302e-01],\n",
       "       [3.91467005e-01],\n",
       "       [9.06945050e-01],\n",
       "       [8.74678671e-01],\n",
       "       [4.35156794e-03],\n",
       "       [1.02892108e-01],\n",
       "       [9.15220916e-01],\n",
       "       [5.94974041e-01],\n",
       "       [3.88505608e-01],\n",
       "       [9.97202992e-01],\n",
       "       [8.36923271e-02],\n",
       "       [9.99970615e-01],\n",
       "       [2.71941662e-01],\n",
       "       [3.56895477e-02],\n",
       "       [9.17641744e-02],\n",
       "       [6.00361645e-01],\n",
       "       [2.58738339e-01],\n",
       "       [2.85761446e-01],\n",
       "       [6.40911520e-01],\n",
       "       [2.32003868e-01],\n",
       "       [6.19503319e-01],\n",
       "       [4.37050201e-02],\n",
       "       [9.99949813e-01],\n",
       "       [9.99931455e-01],\n",
       "       [9.83377159e-01],\n",
       "       [9.99991834e-01],\n",
       "       [9.48044896e-01],\n",
       "       [9.23865940e-03],\n",
       "       [9.48162854e-01],\n",
       "       [3.64742428e-01],\n",
       "       [6.71184242e-01],\n",
       "       [6.24883354e-01],\n",
       "       [5.09488806e-02],\n",
       "       [9.99852300e-01],\n",
       "       [2.58075818e-03],\n",
       "       [6.89625680e-01],\n",
       "       [3.47774662e-02],\n",
       "       [9.95186806e-01],\n",
       "       [1.37811989e-01],\n",
       "       [8.34648684e-03],\n",
       "       [4.80910437e-03],\n",
       "       [8.41586649e-01],\n",
       "       [9.31101382e-01],\n",
       "       [8.46979320e-01],\n",
       "       [9.99939024e-01],\n",
       "       [9.97913122e-01],\n",
       "       [4.67786193e-01],\n",
       "       [8.63817990e-01],\n",
       "       [9.75973725e-01],\n",
       "       [5.33041298e-01],\n",
       "       [9.49977804e-03],\n",
       "       [9.88361955e-01],\n",
       "       [9.99994934e-01],\n",
       "       [9.99999344e-01],\n",
       "       [4.40132678e-01],\n",
       "       [9.78053689e-01],\n",
       "       [9.84603703e-01],\n",
       "       [6.01326406e-01],\n",
       "       [1.25566626e-03],\n",
       "       [9.99923944e-01],\n",
       "       [9.99790788e-01],\n",
       "       [1.78186104e-01],\n",
       "       [4.61590409e-01],\n",
       "       [9.44646522e-02],\n",
       "       [6.16980679e-02],\n",
       "       [3.19703102e-01],\n",
       "       [9.96337533e-01],\n",
       "       [1.93382762e-02],\n",
       "       [9.37521040e-01],\n",
       "       [9.71359968e-01],\n",
       "       [4.04900819e-01],\n",
       "       [5.53034067e-01],\n",
       "       [1.12049589e-02],\n",
       "       [2.07209643e-02],\n",
       "       [9.96288121e-01],\n",
       "       [5.11588878e-04],\n",
       "       [4.17931527e-02],\n",
       "       [9.89222586e-01],\n",
       "       [9.93953124e-02],\n",
       "       [1.65902998e-03],\n",
       "       [1.66344214e-02],\n",
       "       [5.92270587e-03],\n",
       "       [9.81793642e-01],\n",
       "       [6.42998338e-01],\n",
       "       [9.97381032e-01],\n",
       "       [9.96085346e-01],\n",
       "       [1.18629105e-01],\n",
       "       [2.50101020e-03],\n",
       "       [6.55589700e-01],\n",
       "       [4.06210065e-01],\n",
       "       [1.46701261e-02],\n",
       "       [2.60674626e-01],\n",
       "       [2.27559917e-02],\n",
       "       [9.67213035e-01],\n",
       "       [9.92313385e-01],\n",
       "       [9.91716444e-01],\n",
       "       [2.41467170e-02],\n",
       "       [5.09786047e-02],\n",
       "       [1.90176457e-01],\n",
       "       [2.67881770e-02]], dtype=float32)"
      ]
     },
     "execution_count": 66,
     "metadata": {},
     "output_type": "execute_result"
    }
   ],
   "source": [
    "newmodel.predict(X_test)"
   ]
  },
  {
   "cell_type": "code",
   "execution_count": null,
   "id": "f5c025c5",
   "metadata": {},
   "outputs": [],
   "source": []
  }
 ],
 "metadata": {
  "kernelspec": {
   "display_name": "Python 3 (ipykernel)",
   "language": "python",
   "name": "python3"
  },
  "language_info": {
   "codemirror_mode": {
    "name": "ipython",
    "version": 3
   },
   "file_extension": ".py",
   "mimetype": "text/x-python",
   "name": "python",
   "nbconvert_exporter": "python",
   "pygments_lexer": "ipython3",
   "version": "3.11.5"
  }
 },
 "nbformat": 4,
 "nbformat_minor": 5
}
